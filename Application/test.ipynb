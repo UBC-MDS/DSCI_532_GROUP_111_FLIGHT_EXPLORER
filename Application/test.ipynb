{
 "nbformat": 4,
 "nbformat_minor": 2,
 "metadata": {
  "language_info": {
   "name": "python",
   "codemirror_mode": {
    "name": "ipython",
    "version": 3
   },
   "version": "3.7.5"
  },
  "orig_nbformat": 2,
  "file_extension": ".py",
  "mimetype": "text/x-python",
  "name": "python",
  "npconvert_exporter": "python",
  "pygments_lexer": "ipython3",
  "version": 3
 },
 "cells": [
  {
   "cell_type": "code",
   "execution_count": 2,
   "metadata": {},
   "outputs": [
    {
     "name": "stderr",
     "output_type": "stream",
     "text": "/home/jliu/MDS_labs/DSCI_532/application/DSCI_532_GROUP_111_FLIGHT_EXPLORER/Application/model/data_wrangle.py:21: SettingWithCopyWarning: \nA value is trying to be set on a copy of a slice from a DataFrame.\nTry using .loc[row_indexer,col_indexer] = value instead\n\nSee the caveats in the documentation: http://pandas.pydata.org/pandas-docs/stable/user_guide/indexing.html#returning-a-view-versus-a-copy\n  data2[\"fatalities_85_99\"] = data2[\"fatalities_85_99\"]/data2[\"avail_seat_km_per_week_billions\"]\n/home/jliu/MDS_labs/DSCI_532/application/DSCI_532_GROUP_111_FLIGHT_EXPLORER/Application/model/data_wrangle.py:22: SettingWithCopyWarning: \nA value is trying to be set on a copy of a slice from a DataFrame.\nTry using .loc[row_indexer,col_indexer] = value instead\n\nSee the caveats in the documentation: http://pandas.pydata.org/pandas-docs/stable/user_guide/indexing.html#returning-a-view-versus-a-copy\n  data2[\"fatalities_00_14\"] = data2[\"fatalities_00_14\"]/data2[\"avail_seat_km_per_week_billions\"]\n/home/jliu/MDS_labs/DSCI_532/application/DSCI_532_GROUP_111_FLIGHT_EXPLORER/Application/model/data_wrangle.py:23: SettingWithCopyWarning: \nA value is trying to be set on a copy of a slice from a DataFrame.\nTry using .loc[row_indexer,col_indexer] = value instead\n\nSee the caveats in the documentation: http://pandas.pydata.org/pandas-docs/stable/user_guide/indexing.html#returning-a-view-versus-a-copy\n  data2[\"total_fatalities_per_b_avail_seat_km\"] = data2[\"fatalities_85_99\"] + data2[\"fatalities_00_14\"]\n/home/jliu/MDS_labs/DSCI_532/application/DSCI_532_GROUP_111_FLIGHT_EXPLORER/Application/model/data_wrangle.py:29: SettingWithCopyWarning: \nA value is trying to be set on a copy of a slice from a DataFrame\n\nSee the caveats in the documentation: http://pandas.pydata.org/pandas-docs/stable/user_guide/indexing.html#returning-a-view-versus-a-copy\n  data2[\"first_world\"][3,4,6, 7,8, 9, 10, 11, 12, 14, 16, 20, 22, 23, 24, 28, 30, 32, 34, 36, 40, 41, 42] = \"First World\"\n/home/jliu/anaconda3/lib/python3.7/site-packages/pandas/core/indexing.py:205: SettingWithCopyWarning: \nA value is trying to be set on a copy of a slice from a DataFrame\n\nSee the caveats in the documentation: http://pandas.pydata.org/pandas-docs/stable/user_guide/indexing.html#returning-a-view-versus-a-copy\n  self._setitem_with_indexer(indexer, value)\n/home/jliu/MDS_labs/DSCI_532/application/DSCI_532_GROUP_111_FLIGHT_EXPLORER/Application/model/data_wrangle.py:33: SettingWithCopyWarning: \nA value is trying to be set on a copy of a slice from a DataFrame.\nTry using .loc[row_indexer,col_indexer] = value instead\n\nSee the caveats in the documentation: http://pandas.pydata.org/pandas-docs/stable/user_guide/indexing.html#returning-a-view-versus-a-copy\n  data3[\"lethality_85_99\"] = data3[\"fatal_accidents_85_99\"]/data3[\"incidents_85_99\"]\n/home/jliu/MDS_labs/DSCI_532/application/DSCI_532_GROUP_111_FLIGHT_EXPLORER/Application/model/data_wrangle.py:34: SettingWithCopyWarning: \nA value is trying to be set on a copy of a slice from a DataFrame.\nTry using .loc[row_indexer,col_indexer] = value instead\n\nSee the caveats in the documentation: http://pandas.pydata.org/pandas-docs/stable/user_guide/indexing.html#returning-a-view-versus-a-copy\n  data3[\"lethality_00_14\"] = data3[\"fatal_accidents_00_14\"]/data3[\"incidents_00_14\"]\n"
    }
   ],
   "source": [
    "import altair as alt\n",
    "import sys\n",
    "from model import data_wrangle;\n",
    "\n",
    "def return_fatality_bar_chart(value): \n",
    "    plot2 = alt.Chart(data_wrangle.chart_2_data, \n",
    "    title = f\"{value} Number of fatalities for airlines that had an incident between 1985 and 2014\").mark_bar().encode(\n",
    "        alt.Y(\"airline:N\", title=\"Airline (* includes regional subsidiaries)\", sort=alt.EncodingSortField(field = \"total_fatalities_per_b_avail_seat_km\", order=\"ascending\")),\n",
    "        alt.X(\"total_fatalities_per_b_avail_seat_km:Q\", axis = alt.Axis(title = \"Rate of fatalities per billion available seat kilometers\")),\n",
    "        alt.Color(\"first_world:N\", title = None, scale=alt.Scale(scheme=\"category20\"))\n",
    "    ).configure_title(fontSize=18\n",
    "    ).configure_legend(labelFontSize=13\n",
    "    ).configure_axis(labelFontSize=11, titleFontSize=14\n",
    "    ).properties(width = 800, height = 600)\n",
    "    return plot2\n"
   ]
  },
  {
   "cell_type": "code",
   "execution_count": 6,
   "metadata": {},
   "outputs": [
    {
     "data": {
      "text/html": "<div>\n<style scoped>\n    .dataframe tbody tr th:only-of-type {\n        vertical-align: middle;\n    }\n\n    .dataframe tbody tr th {\n        vertical-align: top;\n    }\n\n    .dataframe thead th {\n        text-align: right;\n    }\n</style>\n<table border=\"1\" class=\"dataframe\">\n  <thead>\n    <tr style=\"text-align: right;\">\n      <th></th>\n      <th>airline</th>\n      <th>fatalities_period</th>\n      <th>fatalities_value</th>\n    </tr>\n  </thead>\n  <tbody>\n    <tr>\n      <th>0</th>\n      <td>Aeroflot*</td>\n      <td>fatalities_85_99</td>\n      <td>106.873974</td>\n    </tr>\n    <tr>\n      <th>1</th>\n      <td>Aerolineas Argentinas</td>\n      <td>fatalities_85_99</td>\n      <td>0.000000</td>\n    </tr>\n    <tr>\n      <th>2</th>\n      <td>Aeromexico*</td>\n      <td>fatalities_85_99</td>\n      <td>107.225703</td>\n    </tr>\n    <tr>\n      <th>3</th>\n      <td>Air Canada</td>\n      <td>fatalities_85_99</td>\n      <td>0.000000</td>\n    </tr>\n    <tr>\n      <th>4</th>\n      <td>Air France</td>\n      <td>fatalities_85_99</td>\n      <td>26.298246</td>\n    </tr>\n    <tr>\n      <th>...</th>\n      <td>...</td>\n      <td>...</td>\n      <td>...</td>\n    </tr>\n    <tr>\n      <th>85</th>\n      <td>Turkish Airlines</td>\n      <td>fatalities_00_14</td>\n      <td>43.163287</td>\n    </tr>\n    <tr>\n      <th>86</th>\n      <td>United / Continental*</td>\n      <td>fatalities_00_14</td>\n      <td>15.267622</td>\n    </tr>\n    <tr>\n      <th>87</th>\n      <td>US Airways / America West*</td>\n      <td>fatalities_00_14</td>\n      <td>9.366011</td>\n    </tr>\n    <tr>\n      <th>88</th>\n      <td>Vietnam Airlines</td>\n      <td>fatalities_00_14</td>\n      <td>0.000000</td>\n    </tr>\n    <tr>\n      <th>89</th>\n      <td>Xiamen Airlines</td>\n      <td>fatalities_00_14</td>\n      <td>0.000000</td>\n    </tr>\n  </tbody>\n</table>\n<p>90 rows × 3 columns</p>\n</div>",
      "text/plain": "                       airline fatalities_period  fatalities_value\n0                    Aeroflot*  fatalities_85_99        106.873974\n1        Aerolineas Argentinas  fatalities_85_99          0.000000\n2                  Aeromexico*  fatalities_85_99        107.225703\n3                   Air Canada  fatalities_85_99          0.000000\n4                   Air France  fatalities_85_99         26.298246\n..                         ...               ...               ...\n85            Turkish Airlines  fatalities_00_14         43.163287\n86       United / Continental*  fatalities_00_14         15.267622\n87  US Airways / America West*  fatalities_00_14          9.366011\n88            Vietnam Airlines  fatalities_00_14          0.000000\n89             Xiamen Airlines  fatalities_00_14          0.000000\n\n[90 rows x 3 columns]"
     },
     "execution_count": 6,
     "metadata": {},
     "output_type": "execute_result"
    }
   ],
   "source": [
    "import pandas as pd\n",
    "pd.melt(data_wrangle.chart_2_data,\n",
    "     id_vars=\"airline\",\n",
    "     value_vars = [\"fatalities_85_99\", \n",
    "                \"fatalities_00_14\"],\n",
    "     var_name=\"fatalities_period\",\n",
    "     value_name=\"fatalities_value\")  "
   ]
  },
  {
   "cell_type": "code",
   "metadata": {},
   "outputs": [],
   "source": []
  }
 ]
}
{
 "nbformat": 4,
 "nbformat_minor": 2,
 "metadata": {
  "language_info": {
   "name": "python",
   "codemirror_mode": {
    "name": "ipython",
    "version": 3
   },
   "version": "3.7.5"
  },
  "orig_nbformat": 2,
  "file_extension": ".py",
  "mimetype": "text/x-python",
  "name": "python",
  "npconvert_exporter": "python",
  "pygments_lexer": "ipython3",
  "version": 3
 },
 "cells": [
  {
   "cell_type": "code",
   "execution_count": 1,
   "metadata": {},
   "outputs": [
    {
     "name": "stderr",
     "output_type": "stream",
     "text": "/home/jliu/MDS_labs/DSCI_532/application/DSCI_532_GROUP_111_FLIGHT_EXPLORER/Application/model/data_wrangle.py:21: SettingWithCopyWarning: \nA value is trying to be set on a copy of a slice from a DataFrame.\nTry using .loc[row_indexer,col_indexer] = value instead\n\nSee the caveats in the documentation: http://pandas.pydata.org/pandas-docs/stable/user_guide/indexing.html#returning-a-view-versus-a-copy\n  data2[\"fatalities_85_99\"] = data2[\"fatalities_85_99\"]/data2[\"avail_seat_km_per_week_billions\"]\n/home/jliu/MDS_labs/DSCI_532/application/DSCI_532_GROUP_111_FLIGHT_EXPLORER/Application/model/data_wrangle.py:22: SettingWithCopyWarning: \nA value is trying to be set on a copy of a slice from a DataFrame.\nTry using .loc[row_indexer,col_indexer] = value instead\n\nSee the caveats in the documentation: http://pandas.pydata.org/pandas-docs/stable/user_guide/indexing.html#returning-a-view-versus-a-copy\n  data2[\"fatalities_00_14\"] = data2[\"fatalities_00_14\"]/data2[\"avail_seat_km_per_week_billions\"]\n/home/jliu/MDS_labs/DSCI_532/application/DSCI_532_GROUP_111_FLIGHT_EXPLORER/Application/model/data_wrangle.py:23: SettingWithCopyWarning: \nA value is trying to be set on a copy of a slice from a DataFrame.\nTry using .loc[row_indexer,col_indexer] = value instead\n\nSee the caveats in the documentation: http://pandas.pydata.org/pandas-docs/stable/user_guide/indexing.html#returning-a-view-versus-a-copy\n  data2[\"total_fatalities_per_b_avail_seat_km\"] = data2[\"fatalities_85_99\"] + data2[\"fatalities_00_14\"]\n/home/jliu/MDS_labs/DSCI_532/application/DSCI_532_GROUP_111_FLIGHT_EXPLORER/Application/model/data_wrangle.py:29: SettingWithCopyWarning: \nA value is trying to be set on a copy of a slice from a DataFrame\n\nSee the caveats in the documentation: http://pandas.pydata.org/pandas-docs/stable/user_guide/indexing.html#returning-a-view-versus-a-copy\n  data2[\"first_world\"][3,4,6, 7,8, 9, 10, 11, 12, 14, 16, 20, 22, 23, 24, 28, 30, 32, 34, 36, 40, 41, 42] = \"First World\"\n/home/jliu/anaconda3/lib/python3.7/site-packages/pandas/core/indexing.py:205: SettingWithCopyWarning: \nA value is trying to be set on a copy of a slice from a DataFrame\n\nSee the caveats in the documentation: http://pandas.pydata.org/pandas-docs/stable/user_guide/indexing.html#returning-a-view-versus-a-copy\n  self._setitem_with_indexer(indexer, value)\n/home/jliu/MDS_labs/DSCI_532/application/DSCI_532_GROUP_111_FLIGHT_EXPLORER/Application/model/data_wrangle.py:33: SettingWithCopyWarning: \nA value is trying to be set on a copy of a slice from a DataFrame.\nTry using .loc[row_indexer,col_indexer] = value instead\n\nSee the caveats in the documentation: http://pandas.pydata.org/pandas-docs/stable/user_guide/indexing.html#returning-a-view-versus-a-copy\n  data3[\"lethality_85_99\"] = data3[\"fatal_accidents_85_99\"]/data3[\"incidents_85_99\"]\n/home/jliu/MDS_labs/DSCI_532/application/DSCI_532_GROUP_111_FLIGHT_EXPLORER/Application/model/data_wrangle.py:34: SettingWithCopyWarning: \nA value is trying to be set on a copy of a slice from a DataFrame.\nTry using .loc[row_indexer,col_indexer] = value instead\n\nSee the caveats in the documentation: http://pandas.pydata.org/pandas-docs/stable/user_guide/indexing.html#returning-a-view-versus-a-copy\n  data3[\"lethality_00_14\"] = data3[\"fatal_accidents_00_14\"]/data3[\"incidents_00_14\"]\n"
    }
   ],
   "source": [
    "import altair as alt\n",
    "import sys\n",
    "from model import data_wrangle;\n",
    "\n",
    "def return_fatality_bar_chart(value): \n",
    "    plot2 = alt.Chart(data_wrangle.chart_2_data, \n",
    "    title = f\"{value} Number of fatalities for airlines that had an incident between 1985 and 2014\").mark_bar().encode(\n",
    "        alt.Y(\"airline:N\", title=\"Airline (* includes regional subsidiaries)\", sort=alt.EncodingSortField(field = \"total_fatalities_per_b_avail_seat_km\", order=\"ascending\")),\n",
    "        alt.X(\"total_fatalities_per_b_avail_seat_km:Q\", axis = alt.Axis(title = \"Rate of fatalities per billion available seat kilometers\")),\n",
    "        alt.Color(\"first_world:N\", title = None, scale=alt.Scale(scheme=\"category20\"))\n",
    "    ).configure_title(fontSize=18\n",
    "    ).configure_legend(labelFontSize=13\n",
    "    ).configure_axis(labelFontSize=11, titleFontSize=14\n",
    "    ).properties(width = 800, height = 600)\n",
    "    return plot2\n"
   ]
  },
  {
   "cell_type": "code",
   "execution_count": 6,
   "metadata": {},
   "outputs": [
    {
     "data": {
      "application/vnd.vegalite.v3+json": {
       "$schema": "https://vega.github.io/schema/vega-lite/v3.4.0.json",
       "config": {
        "axis": {
         "labelFontSize": 11,
         "titleFontSize": 14
        },
        "legend": {
         "labelFontSize": 13
        },
        "mark": {
         "tooltip": null
        },
        "title": {
         "fontSize": 18
        },
        "view": {
         "height": 300,
         "width": 400
        }
       },
       "data": {
        "name": "data-fe2058301805f12a8b7b65b104b5d397"
       },
       "datasets": {
        "data-fe2058301805f12a8b7b65b104b5d397": [
         {
          "airline": "Aeroflot*",
          "avail_seat_km_per_week": 1197672318,
          "avail_seat_km_per_week_billions": 1.197672318,
          "fatal_accidents_00_14": 1,
          "fatal_accidents_85_99": 14,
          "fatalities_00_14": 73.47585702485945,
          "fatalities_85_99": 106.87397385434102,
          "first_world": "Other",
          "incidents_00_14": 6,
          "incidents_85_99": 76,
          "total_fatalities_per_b_avail_seat_km": 180.34983087920045,
          "total_incidents": 82
         },
         {
          "airline": "Aerolineas Argentinas",
          "avail_seat_km_per_week": 385803648,
          "avail_seat_km_per_week_billions": 0.385803648,
          "fatal_accidents_00_14": 0,
          "fatal_accidents_85_99": 0,
          "fatalities_00_14": 0,
          "fatalities_85_99": 0,
          "first_world": "Other",
          "incidents_00_14": 1,
          "incidents_85_99": 6,
          "total_fatalities_per_b_avail_seat_km": 0,
          "total_incidents": 7
         },
         {
          "airline": "Aeromexico*",
          "avail_seat_km_per_week": 596871813,
          "avail_seat_km_per_week_billions": 0.596871813,
          "fatal_accidents_00_14": 0,
          "fatal_accidents_85_99": 1,
          "fatalities_00_14": 0,
          "fatalities_85_99": 107.22570341916949,
          "first_world": "Other",
          "incidents_00_14": 5,
          "incidents_85_99": 3,
          "total_fatalities_per_b_avail_seat_km": 107.22570341916949,
          "total_incidents": 8
         },
         {
          "airline": "Air Canada",
          "avail_seat_km_per_week": 1865253802,
          "avail_seat_km_per_week_billions": 1.865253802,
          "fatal_accidents_00_14": 0,
          "fatal_accidents_85_99": 0,
          "fatalities_00_14": 0,
          "fatalities_85_99": 0,
          "first_world": "First World",
          "incidents_00_14": 2,
          "incidents_85_99": 2,
          "total_fatalities_per_b_avail_seat_km": 0,
          "total_incidents": 4
         },
         {
          "airline": "Air France",
          "avail_seat_km_per_week": 3004002661,
          "avail_seat_km_per_week_billions": 3.004002661,
          "fatal_accidents_00_14": 2,
          "fatal_accidents_85_99": 4,
          "fatalities_00_14": 112.18365561893889,
          "fatalities_85_99": 26.29824567921713,
          "first_world": "First World",
          "incidents_00_14": 6,
          "incidents_85_99": 14,
          "total_fatalities_per_b_avail_seat_km": 138.481901298156,
          "total_incidents": 20
         },
         {
          "airline": "Air India*",
          "avail_seat_km_per_week": 869253552,
          "avail_seat_km_per_week_billions": 0.869253552,
          "fatal_accidents_00_14": 1,
          "fatal_accidents_85_99": 1,
          "fatalities_00_14": 181.7651473916554,
          "fatalities_85_99": 378.4856550117382,
          "first_world": "Other",
          "incidents_00_14": 4,
          "incidents_85_99": 2,
          "total_fatalities_per_b_avail_seat_km": 560.2508024033935,
          "total_incidents": 6
         },
         {
          "airline": "Air New Zealand*",
          "avail_seat_km_per_week": 710174817,
          "avail_seat_km_per_week_billions": 0.710174817,
          "fatal_accidents_00_14": 1,
          "fatal_accidents_85_99": 0,
          "fatalities_00_14": 9.856727994904388,
          "fatalities_85_99": 0,
          "first_world": "First World",
          "incidents_00_14": 5,
          "incidents_85_99": 3,
          "total_fatalities_per_b_avail_seat_km": 9.856727994904388,
          "total_incidents": 8
         },
         {
          "airline": "Alaska Airlines*",
          "avail_seat_km_per_week": 965346773,
          "avail_seat_km_per_week_billions": 0.965346773,
          "fatal_accidents_00_14": 1,
          "fatal_accidents_85_99": 0,
          "fatalities_00_14": 91.1589518515954,
          "fatalities_85_99": 0,
          "first_world": "First World",
          "incidents_00_14": 5,
          "incidents_85_99": 5,
          "total_fatalities_per_b_avail_seat_km": 91.1589518515954,
          "total_incidents": 10
         },
         {
          "airline": "Alitalia",
          "avail_seat_km_per_week": 698012498,
          "avail_seat_km_per_week_billions": 0.698012498,
          "fatal_accidents_00_14": 0,
          "fatal_accidents_85_99": 2,
          "fatalities_00_14": 0,
          "fatalities_85_99": 71.63195522037773,
          "first_world": "First World",
          "incidents_00_14": 4,
          "incidents_85_99": 7,
          "total_fatalities_per_b_avail_seat_km": 71.63195522037773,
          "total_incidents": 11
         },
         {
          "airline": "All Nippon Airways",
          "avail_seat_km_per_week": 1841234177,
          "avail_seat_km_per_week_billions": 1.841234177,
          "fatal_accidents_00_14": 0,
          "fatal_accidents_85_99": 1,
          "fatalities_00_14": 0,
          "fatalities_85_99": 0.5431139680610002,
          "first_world": "First World",
          "incidents_00_14": 7,
          "incidents_85_99": 3,
          "total_fatalities_per_b_avail_seat_km": 0.5431139680610002,
          "total_incidents": 10
         },
         {
          "airline": "American*",
          "avail_seat_km_per_week": 5228357340,
          "avail_seat_km_per_week_billions": 5.22835734,
          "fatal_accidents_00_14": 3,
          "fatal_accidents_85_99": 5,
          "fatalities_00_14": 79.56609943573598,
          "fatalities_85_99": 19.31773087261859,
          "first_world": "First World",
          "incidents_00_14": 17,
          "incidents_85_99": 21,
          "total_fatalities_per_b_avail_seat_km": 98.88383030835456,
          "total_incidents": 38
         },
         {
          "airline": "Austrian Airlines",
          "avail_seat_km_per_week": 358239823,
          "avail_seat_km_per_week_billions": 0.358239823,
          "fatal_accidents_00_14": 0,
          "fatal_accidents_85_99": 0,
          "fatalities_00_14": 0,
          "fatalities_85_99": 0,
          "first_world": "First World",
          "incidents_00_14": 1,
          "incidents_85_99": 1,
          "total_fatalities_per_b_avail_seat_km": 0,
          "total_incidents": 2
         },
         {
          "airline": "British Airways*",
          "avail_seat_km_per_week": 3179760952,
          "avail_seat_km_per_week_billions": 3.179760952,
          "fatal_accidents_00_14": 0,
          "fatal_accidents_85_99": 0,
          "fatalities_00_14": 0,
          "fatalities_85_99": 0,
          "first_world": "First World",
          "incidents_00_14": 6,
          "incidents_85_99": 4,
          "total_fatalities_per_b_avail_seat_km": 0,
          "total_incidents": 10
         },
         {
          "airline": "China Airlines",
          "avail_seat_km_per_week": 813216487,
          "avail_seat_km_per_week_billions": 0.813216487,
          "fatal_accidents_00_14": 1,
          "fatal_accidents_85_99": 6,
          "fatalities_00_14": 276.6790929559695,
          "fatalities_85_99": 657.8813988064164,
          "first_world": "Other",
          "incidents_00_14": 2,
          "incidents_85_99": 12,
          "total_fatalities_per_b_avail_seat_km": 934.5604917623859,
          "total_incidents": 14
         },
         {
          "airline": "Delta / Northwest*",
          "avail_seat_km_per_week": 6525658894,
          "avail_seat_km_per_week_billions": 6.525658894,
          "fatal_accidents_00_14": 2,
          "fatal_accidents_85_99": 12,
          "fatalities_00_14": 7.815302765348617,
          "fatalities_85_99": 62.36918089209583,
          "first_world": "First World",
          "incidents_00_14": 24,
          "incidents_85_99": 24,
          "total_fatalities_per_b_avail_seat_km": 70.18448365744445,
          "total_incidents": 48
         },
         {
          "airline": "Egyptair",
          "avail_seat_km_per_week": 557699891,
          "avail_seat_km_per_week_billions": 0.557699891,
          "fatal_accidents_00_14": 1,
          "fatal_accidents_85_99": 3,
          "fatalities_00_14": 25.103106932470247,
          "fatalities_85_99": 505.648296782615,
          "first_world": "Other",
          "incidents_00_14": 4,
          "incidents_85_99": 8,
          "total_fatalities_per_b_avail_seat_km": 530.7514037150852,
          "total_incidents": 12
         },
         {
          "airline": "El Al",
          "avail_seat_km_per_week": 335448023,
          "avail_seat_km_per_week_billions": 0.335448023,
          "fatal_accidents_00_14": 0,
          "fatal_accidents_85_99": 1,
          "fatalities_00_14": 0,
          "fatalities_85_99": 11.9243510938802,
          "first_world": "First World",
          "incidents_00_14": 1,
          "incidents_85_99": 1,
          "total_fatalities_per_b_avail_seat_km": 11.9243510938802,
          "total_incidents": 2
         },
         {
          "airline": "Ethiopian Airlines",
          "avail_seat_km_per_week": 488560643,
          "avail_seat_km_per_week_billions": 0.488560643,
          "fatal_accidents_00_14": 2,
          "fatal_accidents_85_99": 5,
          "fatalities_00_14": 188.3082506095359,
          "fatalities_85_99": 341.8204114325271,
          "first_world": "Other",
          "incidents_00_14": 5,
          "incidents_85_99": 25,
          "total_fatalities_per_b_avail_seat_km": 530.1286620420631,
          "total_incidents": 30
         },
         {
          "airline": "Garuda Indonesia",
          "avail_seat_km_per_week": 613356665,
          "avail_seat_km_per_week_billions": 0.613356665,
          "fatal_accidents_00_14": 2,
          "fatal_accidents_85_99": 3,
          "fatalities_00_14": 35.86820076374323,
          "fatalities_85_99": 423.8969181169655,
          "first_world": "Other",
          "incidents_00_14": 4,
          "incidents_85_99": 10,
          "total_fatalities_per_b_avail_seat_km": 459.7651188807087,
          "total_incidents": 14
         },
         {
          "airline": "Gulf Air",
          "avail_seat_km_per_week": 301379762,
          "avail_seat_km_per_week_billions": 0.301379762,
          "fatal_accidents_00_14": 1,
          "fatal_accidents_85_99": 0,
          "fatalities_00_14": 474.4844147829674,
          "fatalities_85_99": 0,
          "first_world": "Other",
          "incidents_00_14": 3,
          "incidents_85_99": 1,
          "total_fatalities_per_b_avail_seat_km": 474.4844147829674,
          "total_incidents": 4
         },
         {
          "airline": "Iberia",
          "avail_seat_km_per_week": 1173203126,
          "avail_seat_km_per_week_billions": 1.173203126,
          "fatal_accidents_00_14": 0,
          "fatal_accidents_85_99": 1,
          "fatalities_00_14": 0,
          "fatalities_85_99": 126.15036281449527,
          "first_world": "First World",
          "incidents_00_14": 5,
          "incidents_85_99": 4,
          "total_fatalities_per_b_avail_seat_km": 126.15036281449527,
          "total_incidents": 9
         },
         {
          "airline": "Kenya Airways",
          "avail_seat_km_per_week": 277414794,
          "avail_seat_km_per_week_billions": 0.277414794,
          "fatal_accidents_00_14": 2,
          "fatal_accidents_85_99": 0,
          "fatalities_00_14": 1020.1330502943545,
          "fatalities_85_99": 0,
          "first_world": "Other",
          "incidents_00_14": 2,
          "incidents_85_99": 2,
          "total_fatalities_per_b_avail_seat_km": 1020.1330502943545,
          "total_incidents": 4
         },
         {
          "airline": "KLM*",
          "avail_seat_km_per_week": 1874561773,
          "avail_seat_km_per_week_billions": 1.874561773,
          "fatal_accidents_00_14": 0,
          "fatal_accidents_85_99": 1,
          "fatalities_00_14": 0,
          "fatalities_85_99": 1.6003740411279581,
          "first_world": "First World",
          "incidents_00_14": 1,
          "incidents_85_99": 7,
          "total_fatalities_per_b_avail_seat_km": 1.6003740411279581,
          "total_incidents": 8
         },
         {
          "airline": "Korean Air",
          "avail_seat_km_per_week": 1734522605,
          "avail_seat_km_per_week_billions": 1.734522605,
          "fatal_accidents_00_14": 0,
          "fatal_accidents_85_99": 5,
          "fatalities_00_14": 0,
          "fatalities_85_99": 245.02419211769222,
          "first_world": "First World",
          "incidents_00_14": 1,
          "incidents_85_99": 12,
          "total_fatalities_per_b_avail_seat_km": 245.02419211769222,
          "total_incidents": 13
         },
         {
          "airline": "Lufthansa*",
          "avail_seat_km_per_week": 3426529504,
          "avail_seat_km_per_week_billions": 3.426529504,
          "fatal_accidents_00_14": 0,
          "fatal_accidents_85_99": 1,
          "fatalities_00_14": 0,
          "fatalities_85_99": 0.5836809511388349,
          "first_world": "First World",
          "incidents_00_14": 3,
          "incidents_85_99": 6,
          "total_fatalities_per_b_avail_seat_km": 0.5836809511388349,
          "total_incidents": 9
         },
         {
          "airline": "Malaysia Airlines",
          "avail_seat_km_per_week": 1039171244,
          "avail_seat_km_per_week_billions": 1.039171244,
          "fatal_accidents_00_14": 2,
          "fatal_accidents_85_99": 1,
          "fatalities_00_14": 516.7579483175152,
          "fatalities_85_99": 32.71838034040133,
          "first_world": "Other",
          "incidents_00_14": 3,
          "incidents_85_99": 3,
          "total_fatalities_per_b_avail_seat_km": 549.4763286579166,
          "total_incidents": 6
         },
         {
          "airline": "Pakistan International",
          "avail_seat_km_per_week": 348563137,
          "avail_seat_km_per_week_billions": 0.348563137,
          "fatal_accidents_00_14": 2,
          "fatal_accidents_85_99": 3,
          "fatalities_00_14": 131.9703523324671,
          "fatalities_85_99": 671.3274444738544,
          "first_world": "Other",
          "incidents_00_14": 10,
          "incidents_85_99": 8,
          "total_fatalities_per_b_avail_seat_km": 803.2977968063215,
          "total_incidents": 18
         },
         {
          "airline": "Philippine Airlines",
          "avail_seat_km_per_week": 413007158,
          "avail_seat_km_per_week_billions": 0.413007158,
          "fatal_accidents_00_14": 1,
          "fatal_accidents_85_99": 4,
          "fatalities_00_14": 2.421265541358971,
          "fatalities_85_99": 179.17365006056386,
          "first_world": "Other",
          "incidents_00_14": 2,
          "incidents_85_99": 7,
          "total_fatalities_per_b_avail_seat_km": 181.59491560192282,
          "total_incidents": 9
         },
         {
          "airline": "Qantas*",
          "avail_seat_km_per_week": 1917428984,
          "avail_seat_km_per_week_billions": 1.917428984,
          "fatal_accidents_00_14": 0,
          "fatal_accidents_85_99": 0,
          "fatalities_00_14": 0,
          "fatalities_85_99": 0,
          "first_world": "First World",
          "incidents_00_14": 5,
          "incidents_85_99": 1,
          "total_fatalities_per_b_avail_seat_km": 0,
          "total_incidents": 6
         },
         {
          "airline": "Royal Air Maroc",
          "avail_seat_km_per_week": 295705339,
          "avail_seat_km_per_week_billions": 0.295705339,
          "fatal_accidents_00_14": 0,
          "fatal_accidents_85_99": 3,
          "fatalities_00_14": 0,
          "fatalities_85_99": 172.4689860942957,
          "first_world": "Other",
          "incidents_00_14": 3,
          "incidents_85_99": 5,
          "total_fatalities_per_b_avail_seat_km": 172.4689860942957,
          "total_incidents": 8
         },
         {
          "airline": "SAS*",
          "avail_seat_km_per_week": 682971852,
          "avail_seat_km_per_week_billions": 0.682971852,
          "fatal_accidents_00_14": 1,
          "fatal_accidents_85_99": 0,
          "fatalities_00_14": 161.06081045342992,
          "fatalities_85_99": 0,
          "first_world": "First World",
          "incidents_00_14": 6,
          "incidents_85_99": 5,
          "total_fatalities_per_b_avail_seat_km": 161.06081045342992,
          "total_incidents": 11
         },
         {
          "airline": "Saudi Arabian",
          "avail_seat_km_per_week": 859673901,
          "avail_seat_km_per_week_billions": 0.859673901,
          "fatal_accidents_00_14": 0,
          "fatal_accidents_85_99": 2,
          "fatalities_00_14": 0,
          "fatalities_85_99": 364.091546382772,
          "first_world": "Other",
          "incidents_00_14": 11,
          "incidents_85_99": 7,
          "total_fatalities_per_b_avail_seat_km": 364.091546382772,
          "total_incidents": 18
         },
         {
          "airline": "Singapore Airlines",
          "avail_seat_km_per_week": 2376857805,
          "avail_seat_km_per_week_billions": 2.376857805,
          "fatal_accidents_00_14": 1,
          "fatal_accidents_85_99": 2,
          "fatalities_00_14": 34.92005277951408,
          "fatalities_85_99": 2.5243411647841505,
          "first_world": "First World",
          "incidents_00_14": 2,
          "incidents_85_99": 2,
          "total_fatalities_per_b_avail_seat_km": 37.44439394429823,
          "total_incidents": 4
         },
         {
          "airline": "South African",
          "avail_seat_km_per_week": 651502442,
          "avail_seat_km_per_week_billions": 0.651502442,
          "fatal_accidents_00_14": 0,
          "fatal_accidents_85_99": 1,
          "fatalities_00_14": 0,
          "fatalities_85_99": 244.05127248932095,
          "first_world": "Other",
          "incidents_00_14": 1,
          "incidents_85_99": 2,
          "total_fatalities_per_b_avail_seat_km": 244.05127248932095,
          "total_incidents": 3
         },
         {
          "airline": "Southwest Airlines",
          "avail_seat_km_per_week": 3276525770,
          "avail_seat_km_per_week_billions": 3.27652577,
          "fatal_accidents_00_14": 0,
          "fatal_accidents_85_99": 0,
          "fatalities_00_14": 0,
          "fatalities_85_99": 0,
          "first_world": "First World",
          "incidents_00_14": 8,
          "incidents_85_99": 1,
          "total_fatalities_per_b_avail_seat_km": 0,
          "total_incidents": 9
         },
         {
          "airline": "Sri Lankan / AirLanka",
          "avail_seat_km_per_week": 325582976,
          "avail_seat_km_per_week_billions": 0.325582976,
          "fatal_accidents_00_14": 0,
          "fatal_accidents_85_99": 1,
          "fatalities_00_14": 0,
          "fatalities_85_99": 42.99979124215634,
          "first_world": "Other",
          "incidents_00_14": 4,
          "incidents_85_99": 2,
          "total_fatalities_per_b_avail_seat_km": 42.99979124215634,
          "total_incidents": 6
         },
         {
          "airline": "SWISS*",
          "avail_seat_km_per_week": 792601299,
          "avail_seat_km_per_week_billions": 0.792601299,
          "fatal_accidents_00_14": 0,
          "fatal_accidents_85_99": 1,
          "fatalities_00_14": 0,
          "fatalities_85_99": 288.9220599170378,
          "first_world": "First World",
          "incidents_00_14": 3,
          "incidents_85_99": 2,
          "total_fatalities_per_b_avail_seat_km": 288.9220599170378,
          "total_incidents": 5
         },
         {
          "airline": "TACA",
          "avail_seat_km_per_week": 259373346,
          "avail_seat_km_per_week_billions": 0.259373346,
          "fatal_accidents_00_14": 1,
          "fatal_accidents_85_99": 1,
          "fatalities_00_14": 11.566338817250713,
          "fatalities_85_99": 11.566338817250713,
          "first_world": "Other",
          "incidents_00_14": 1,
          "incidents_85_99": 3,
          "total_fatalities_per_b_avail_seat_km": 23.132677634501427,
          "total_incidents": 4
         },
         {
          "airline": "TAM",
          "avail_seat_km_per_week": 1509195646,
          "avail_seat_km_per_week_billions": 1.509195646,
          "fatal_accidents_00_14": 2,
          "fatal_accidents_85_99": 3,
          "fatalities_00_14": 124.56966762280203,
          "fatalities_85_99": 64.93525227146064,
          "first_world": "Other",
          "incidents_00_14": 7,
          "incidents_85_99": 8,
          "total_fatalities_per_b_avail_seat_km": 189.50491989426268,
          "total_incidents": 15
         },
         {
          "airline": "Thai Airways",
          "avail_seat_km_per_week": 1702802250,
          "avail_seat_km_per_week_billions": 1.70280225,
          "fatal_accidents_00_14": 1,
          "fatal_accidents_85_99": 4,
          "fatalities_00_14": 0.5872672531411091,
          "fatalities_85_99": 180.8783139674616,
          "first_world": "Other",
          "incidents_00_14": 2,
          "incidents_85_99": 8,
          "total_fatalities_per_b_avail_seat_km": 181.4655812206027,
          "total_incidents": 10
         },
         {
          "airline": "Turkish Airlines",
          "avail_seat_km_per_week": 1946098294,
          "avail_seat_km_per_week_billions": 1.946098294,
          "fatal_accidents_00_14": 2,
          "fatal_accidents_85_99": 3,
          "fatalities_00_14": 43.163287414094,
          "fatalities_85_99": 32.88631422026209,
          "first_world": "First World",
          "incidents_00_14": 8,
          "incidents_85_99": 8,
          "total_fatalities_per_b_avail_seat_km": 76.0496016343561,
          "total_incidents": 16
         },
         {
          "airline": "United / Continental*",
          "avail_seat_km_per_week": 7139291291,
          "avail_seat_km_per_week_billions": 7.139291291,
          "fatal_accidents_00_14": 2,
          "fatal_accidents_85_99": 8,
          "fatalities_00_14": 15.267621890902335,
          "fatalities_85_99": 44.68230626787014,
          "first_world": "First World",
          "incidents_00_14": 14,
          "incidents_85_99": 19,
          "total_fatalities_per_b_avail_seat_km": 59.94992815877247,
          "total_incidents": 33
         },
         {
          "airline": "US Airways / America West*",
          "avail_seat_km_per_week": 2455687887,
          "avail_seat_km_per_week_billions": 2.455687887,
          "fatal_accidents_00_14": 2,
          "fatal_accidents_85_99": 7,
          "fatalities_00_14": 9.366011096832844,
          "fatalities_85_99": 91.2168037256764,
          "first_world": "First World",
          "incidents_00_14": 11,
          "incidents_85_99": 16,
          "total_fatalities_per_b_avail_seat_km": 100.58281482250925,
          "total_incidents": 27
         },
         {
          "airline": "Vietnam Airlines",
          "avail_seat_km_per_week": 625084918,
          "avail_seat_km_per_week_billions": 0.625084918,
          "fatal_accidents_00_14": 0,
          "fatal_accidents_85_99": 3,
          "fatalities_00_14": 0,
          "fatalities_85_99": 273.5628313463804,
          "first_world": "Other",
          "incidents_00_14": 1,
          "incidents_85_99": 7,
          "total_fatalities_per_b_avail_seat_km": 273.5628313463804,
          "total_incidents": 8
         },
         {
          "airline": "Xiamen Airlines",
          "avail_seat_km_per_week": 430462962,
          "avail_seat_km_per_week_billions": 0.430462962,
          "fatal_accidents_00_14": 0,
          "fatal_accidents_85_99": 1,
          "fatalities_00_14": 0,
          "fatalities_85_99": 190.49257947539746,
          "first_world": "Other",
          "incidents_00_14": 2,
          "incidents_85_99": 9,
          "total_fatalities_per_b_avail_seat_km": 190.49257947539746,
          "total_incidents": 11
         }
        ]
       },
       "encoding": {
        "color": {
         "field": "first_world",
         "scale": {
          "scheme": "category20"
         },
         "title": null,
         "type": "nominal"
        },
        "x": {
         "axis": {
          "title": "Rate of fatalities per billion available seat kilometers"
         },
         "field": "total_fatalities_per_b_avail_seat_km",
         "type": "quantitative"
        },
        "y": {
         "field": "airline",
         "sort": {
          "field": "total_fatalities_per_b_avail_seat_km",
          "order": "ascending"
         },
         "title": "Airline (* includes regional subsidiaries)",
         "type": "nominal"
        }
       },
       "height": 600,
       "mark": "bar",
       "title": "0 Number of fatalities for airlines that had an incident between 1985 and 2014",
       "width": 800
      },
      "text/plain": "<VegaLite 3 object>\n\nIf you see this message, it means the renderer has not been properly enabled\nfor the frontend that you are using. For more information, see\nhttps://altair-viz.github.io/user_guide/troubleshooting.html\n"
     },
     "execution_count": 6,
     "metadata": {},
     "output_type": "execute_result"
    }
   ],
   "source": [
    "return_fatality_bar_chart(0)"
   ]
  },
  {
   "cell_type": "code",
   "metadata": {},
   "outputs": [],
   "source": []
  }
 ]
}